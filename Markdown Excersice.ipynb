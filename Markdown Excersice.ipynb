{
 "cells": [
  {
   "cell_type": "markdown",
   "metadata": {},
   "source": [
    "# My Jupyter Notebook on IBM Data Science Experience"
   ]
  },
  {
   "cell_type": "markdown",
   "metadata": {},
   "source": [
    " #### Dr.Masoud Hadadi  \n",
    " Data Analyzer"
   ]
  },
  {
   "cell_type": "markdown",
   "metadata": {},
   "source": [
    "_I am interested in data science because it widens my perspective to the world_. _Opening doors to tons of different data coming from various sources would be an amazing journey to step in_."
   ]
  },
  {
   "cell_type": "markdown",
   "metadata": {},
   "source": [
    "### My code will print out the items of the list A using a for loop written in Python:"
   ]
  },
  {
   "cell_type": "code",
   "execution_count": 3,
   "metadata": {},
   "outputs": [
    {
     "name": "stdout",
     "output_type": "stream",
     "text": [
      "1\n",
      "2\n",
      "3\n",
      "4\n",
      "5\n"
     ]
    }
   ],
   "source": [
    "A=[1,2,3,4,5]\n",
    "for x in A:\n",
    "    print(x)\n",
    "    "
   ]
  },
  {
   "cell_type": "markdown",
   "metadata": {},
   "source": [
    "**This is `my grocery store list` I am trying to show**:\n",
    "1. Fruits \n",
    "  * Apple  \n",
    "  ![alt text](http://1.bp.blogspot.com/-sm2PC8KW-l4/UDP7Z4Mz80I/AAAAAAAAB6g/j91oeuESMcs/s1600/apple.jpg \"Look how big it is!!\")\n",
    "  + Carrot  \n",
    "  ![alt text][link]\n",
    "  [link]: https://tse1.mm.bing.net/th?id=OIP.RG0ol1YhrBpudpCHARGJFwHaFl&pid=Api&P=0&w=300&h=300 \"This is just an illustration\"\n",
    "  - Letuce\n",
    "\n",
    "2. Greenies\n",
    "  1. _Spinach_\n",
    "  2. ~~parpin~~\n",
    "  3. Roots\n",
    "  \n",
    "3. Goosht\n",
    "\n",
    "8. Tools/Gears\n",
    "\n",
    "\n",
    "[Link](https://www.thefreedictionary.com/greenish \"For more info click on this\")\n",
    "\n"
   ]
  },
  {
   "cell_type": "markdown",
   "metadata": {},
   "source": [
    "Now lets take a look at my weekly schedule:\n",
    "\n",
    "Programme|Day|Time\n",
    ":-------:|:-------------------------:|:-----:\n",
    "*Call Daddy*|Thursday|**8 PM**\n",
    "Having Fun|`wednesday`|7 AM\n",
    "Go to work|Everyday|7.30 AM\n",
    "Go to Sleep|Everynight|10 PM"
   ]
  }
 ],
 "metadata": {
  "kernelspec": {
   "display_name": "Python",
   "language": "python",
   "name": "conda-env-python-py"
  },
  "language_info": {
   "codemirror_mode": {
    "name": "ipython",
    "version": 3
   },
   "file_extension": ".py",
   "mimetype": "text/x-python",
   "name": "python",
   "nbconvert_exporter": "python",
   "pygments_lexer": "ipython3",
   "version": "3.6.7"
  }
 },
 "nbformat": 4,
 "nbformat_minor": 4
}
